{
 "cells": [
  {
   "cell_type": "code",
   "execution_count": 171,
   "metadata": {
    "collapsed": true
   },
   "outputs": [],
   "source": [
    "import numpy as np # linear algebra\n",
    "import pandas as pd # data processing, CSV file I/O (e.g. pd.read_csv)\n",
    "import matplotlib.pyplot as plt\n",
    "import seaborn as sns\n",
    "color = sns.color_palette()\n",
    "\n",
    "%matplotlib inline\n",
    "\n",
    "pd.options.mode.chained_assignment = None  # default='warn'"
   ]
  },
  {
   "cell_type": "code",
   "execution_count": 183,
   "metadata": {
    "collapsed": false
   },
   "outputs": [
    {
     "name": "stdout",
     "output_type": "stream",
     "text": [
      "(61, 13)\n"
     ]
    },
    {
     "data": {
      "text/html": [
       "<div>\n",
       "<table border=\"1\" class=\"dataframe\">\n",
       "  <thead>\n",
       "    <tr style=\"text-align: right;\">\n",
       "      <th></th>\n",
       "      <th>Record</th>\n",
       "      <th>Date</th>\n",
       "      <th>Time</th>\n",
       "      <th>OptionSeries</th>\n",
       "      <th>FieldType</th>\n",
       "      <th>BidPrice</th>\n",
       "      <th>BidSize</th>\n",
       "      <th>AskPrice</th>\n",
       "      <th>AskSize</th>\n",
       "      <th>TradeVolume</th>\n",
       "      <th>Price</th>\n",
       "      <th>OrderID</th>\n",
       "      <th>UnderlyingPrice</th>\n",
       "    </tr>\n",
       "  </thead>\n",
       "  <tbody>\n",
       "    <tr>\n",
       "      <th>0</th>\n",
       "      <td>1</td>\n",
       "      <td>8/1/17</td>\n",
       "      <td>10:00:00.000</td>\n",
       "      <td>XYZ</td>\n",
       "      <td>NewBuy</td>\n",
       "      <td>10</td>\n",
       "      <td>10</td>\n",
       "      <td>Null</td>\n",
       "      <td>Null</td>\n",
       "      <td>Null</td>\n",
       "      <td>Null</td>\n",
       "      <td>11110000</td>\n",
       "      <td>50.00</td>\n",
       "    </tr>\n",
       "    <tr>\n",
       "      <th>1</th>\n",
       "      <td>2</td>\n",
       "      <td>8/1/17</td>\n",
       "      <td>10:00:00.000</td>\n",
       "      <td>XYZ</td>\n",
       "      <td>GenTrade</td>\n",
       "      <td>Null</td>\n",
       "      <td>Null</td>\n",
       "      <td>Null</td>\n",
       "      <td>Null</td>\n",
       "      <td>5</td>\n",
       "      <td>10.03</td>\n",
       "      <td>Null</td>\n",
       "      <td>50.00</td>\n",
       "    </tr>\n",
       "    <tr>\n",
       "      <th>2</th>\n",
       "      <td>3</td>\n",
       "      <td>8/1/17</td>\n",
       "      <td>10:00:00.001</td>\n",
       "      <td>XYZ</td>\n",
       "      <td>NewAsk</td>\n",
       "      <td>Null</td>\n",
       "      <td>Null</td>\n",
       "      <td>10.08</td>\n",
       "      <td>10</td>\n",
       "      <td>Null</td>\n",
       "      <td>Null</td>\n",
       "      <td>11110001</td>\n",
       "      <td>50.01</td>\n",
       "    </tr>\n",
       "    <tr>\n",
       "      <th>3</th>\n",
       "      <td>4</td>\n",
       "      <td>8/1/17</td>\n",
       "      <td>10:00:00.001</td>\n",
       "      <td>XYZ</td>\n",
       "      <td>DeleteBuy</td>\n",
       "      <td>10</td>\n",
       "      <td>10</td>\n",
       "      <td>Null</td>\n",
       "      <td>Null</td>\n",
       "      <td>Null</td>\n",
       "      <td>Null</td>\n",
       "      <td>11110000</td>\n",
       "      <td>50.01</td>\n",
       "    </tr>\n",
       "    <tr>\n",
       "      <th>4</th>\n",
       "      <td>5</td>\n",
       "      <td>8/1/17</td>\n",
       "      <td>10:00:00.002</td>\n",
       "      <td>XYZ</td>\n",
       "      <td>AmendAsk</td>\n",
       "      <td>Null</td>\n",
       "      <td>Null</td>\n",
       "      <td>10.07</td>\n",
       "      <td>10</td>\n",
       "      <td>Null</td>\n",
       "      <td>Null</td>\n",
       "      <td>11110001</td>\n",
       "      <td>50.02</td>\n",
       "    </tr>\n",
       "  </tbody>\n",
       "</table>\n",
       "</div>"
      ],
      "text/plain": [
       "  Record    Date          Time OptionSeries  FieldType BidPrice BidSize  \\\n",
       "0      1  8/1/17  10:00:00.000          XYZ     NewBuy       10      10   \n",
       "1      2  8/1/17  10:00:00.000          XYZ   GenTrade     Null    Null   \n",
       "2      3  8/1/17  10:00:00.001          XYZ     NewAsk     Null    Null   \n",
       "3      4  8/1/17  10:00:00.001          XYZ  DeleteBuy       10      10   \n",
       "4      5  8/1/17  10:00:00.002          XYZ   AmendAsk     Null    Null   \n",
       "\n",
       "  AskPrice AskSize TradeVolume  Price   OrderID  UnderlyingPrice  \n",
       "0     Null    Null        Null   Null  11110000            50.00  \n",
       "1     Null    Null           5  10.03      Null            50.00  \n",
       "2    10.08      10        Null   Null  11110001            50.01  \n",
       "3     Null    Null        Null   Null  11110000            50.01  \n",
       "4    10.07      10        Null   Null  11110001            50.02  "
      ]
     },
     "execution_count": 183,
     "metadata": {},
     "output_type": "execute_result"
    }
   ],
   "source": [
    "rawData = pd.read_csv(\"./AnomalyDetection.csv\")\n",
    "rawData = rawData.dropna(axis=0, how='all') #dropping rows that have all nan\n",
    "print(rawData.shape)\n",
    "rawData.head()"
   ]
  },
  {
   "cell_type": "code",
   "execution_count": 184,
   "metadata": {
    "collapsed": false
   },
   "outputs": [
    {
     "data": {
      "text/html": [
       "<div>\n",
       "<table border=\"1\" class=\"dataframe\">\n",
       "  <thead>\n",
       "    <tr style=\"text-align: right;\">\n",
       "      <th></th>\n",
       "      <th>Record</th>\n",
       "      <th>Date</th>\n",
       "      <th>Time</th>\n",
       "      <th>OptionSeries</th>\n",
       "      <th>FieldType</th>\n",
       "      <th>BidPrice</th>\n",
       "      <th>BidSize</th>\n",
       "      <th>AskPrice</th>\n",
       "      <th>AskSize</th>\n",
       "      <th>TradeVolume</th>\n",
       "      <th>Price</th>\n",
       "      <th>OrderID</th>\n",
       "      <th>UnderlyingPrice</th>\n",
       "    </tr>\n",
       "  </thead>\n",
       "  <tbody>\n",
       "    <tr>\n",
       "      <th>57</th>\n",
       "      <td>Amend Ask</td>\n",
       "      <td>when the firm change an existing field (the o...</td>\n",
       "      <td>NaN</td>\n",
       "      <td>NaN</td>\n",
       "      <td>NaN</td>\n",
       "      <td>NaN</td>\n",
       "      <td>NaN</td>\n",
       "      <td>NaN</td>\n",
       "      <td>NaN</td>\n",
       "      <td>NaN</td>\n",
       "      <td>NaN</td>\n",
       "      <td>NaN</td>\n",
       "      <td>NaN</td>\n",
       "    </tr>\n",
       "    <tr>\n",
       "      <th>58</th>\n",
       "      <td>Delete Bid/Ask</td>\n",
       "      <td>when the firm's bid or ask is deleted (we tra...</td>\n",
       "      <td>NaN</td>\n",
       "      <td>NaN</td>\n",
       "      <td>NaN</td>\n",
       "      <td>NaN</td>\n",
       "      <td>NaN</td>\n",
       "      <td>NaN</td>\n",
       "      <td>NaN</td>\n",
       "      <td>NaN</td>\n",
       "      <td>NaN</td>\n",
       "      <td>NaN</td>\n",
       "      <td>NaN</td>\n",
       "    </tr>\n",
       "    <tr>\n",
       "      <th>59</th>\n",
       "      <td>Best Bid/Ask</td>\n",
       "      <td>Best existing Bid or Ask in the market</td>\n",
       "      <td>NaN</td>\n",
       "      <td>NaN</td>\n",
       "      <td>NaN</td>\n",
       "      <td>NaN</td>\n",
       "      <td>NaN</td>\n",
       "      <td>NaN</td>\n",
       "      <td>NaN</td>\n",
       "      <td>NaN</td>\n",
       "      <td>NaN</td>\n",
       "      <td>NaN</td>\n",
       "      <td>NaN</td>\n",
       "    </tr>\n",
       "    <tr>\n",
       "      <th>60</th>\n",
       "      <td>Gen Trade</td>\n",
       "      <td>Trade in the market by different participants</td>\n",
       "      <td>NaN</td>\n",
       "      <td>NaN</td>\n",
       "      <td>NaN</td>\n",
       "      <td>NaN</td>\n",
       "      <td>NaN</td>\n",
       "      <td>NaN</td>\n",
       "      <td>NaN</td>\n",
       "      <td>NaN</td>\n",
       "      <td>NaN</td>\n",
       "      <td>NaN</td>\n",
       "      <td>NaN</td>\n",
       "    </tr>\n",
       "    <tr>\n",
       "      <th>61</th>\n",
       "      <td>Firm Trade</td>\n",
       "      <td>trade by our firm</td>\n",
       "      <td>NaN</td>\n",
       "      <td>NaN</td>\n",
       "      <td>NaN</td>\n",
       "      <td>NaN</td>\n",
       "      <td>NaN</td>\n",
       "      <td>NaN</td>\n",
       "      <td>NaN</td>\n",
       "      <td>NaN</td>\n",
       "      <td>NaN</td>\n",
       "      <td>NaN</td>\n",
       "      <td>NaN</td>\n",
       "    </tr>\n",
       "  </tbody>\n",
       "</table>\n",
       "</div>"
      ],
      "text/plain": [
       "            Record                                               Date Time  \\\n",
       "57       Amend Ask   when the firm change an existing field (the o...  NaN   \n",
       "58  Delete Bid/Ask   when the firm's bid or ask is deleted (we tra...  NaN   \n",
       "59    Best Bid/Ask             Best existing Bid or Ask in the market  NaN   \n",
       "60       Gen Trade      Trade in the market by different participants  NaN   \n",
       "61      Firm Trade                                  trade by our firm  NaN   \n",
       "\n",
       "   OptionSeries FieldType BidPrice BidSize AskPrice AskSize TradeVolume Price  \\\n",
       "57          NaN       NaN      NaN     NaN      NaN     NaN         NaN   NaN   \n",
       "58          NaN       NaN      NaN     NaN      NaN     NaN         NaN   NaN   \n",
       "59          NaN       NaN      NaN     NaN      NaN     NaN         NaN   NaN   \n",
       "60          NaN       NaN      NaN     NaN      NaN     NaN         NaN   NaN   \n",
       "61          NaN       NaN      NaN     NaN      NaN     NaN         NaN   NaN   \n",
       "\n",
       "   OrderID  UnderlyingPrice  \n",
       "57     NaN              NaN  \n",
       "58     NaN              NaN  \n",
       "59     NaN              NaN  \n",
       "60     NaN              NaN  \n",
       "61     NaN              NaN  "
      ]
     },
     "execution_count": 184,
     "metadata": {},
     "output_type": "execute_result"
    }
   ],
   "source": [
    "rawData.tail(5)"
   ]
  },
  {
   "cell_type": "code",
   "execution_count": 185,
   "metadata": {
    "collapsed": false
   },
   "outputs": [
    {
     "name": "stdout",
     "output_type": "stream",
     "text": [
      "\n",
      " --- Record 61 ['11', '9', '23', 'New Buy']\n",
      "\n",
      " --- Date 9 [nan, ' When the firm enters an order to sell (new order ID is assigned)', '8/1/17', ' When the firm enters an order to buy (new order ID is assigned)']\n",
      "\n",
      " --- Time 31 [nan, '10:00:22.012', '10:00:10.030', '10:00:15.012']\n",
      "\n",
      " --- OptionSeries 2 [nan, 'XYZ']\n",
      "\n",
      " --- FieldType 11 ['BestAsk', 'AmendAsk', 'DeleteAsk', 'AmendBuy']\n",
      "\n",
      " --- BidPrice 9 [nan, '10.01', 'Null', '10.04']\n",
      "\n",
      " --- BidSize 10 ['20', nan, 'Null', '60']\n",
      "\n",
      " --- AskPrice 10 [nan, '10.04', 'Null', '10.01']\n",
      "\n",
      " --- AskSize 10 ['20', nan, 'Null', '40']\n",
      "\n",
      " --- TradeVolume 7 ['20', nan, 'Null', '40']\n",
      "\n",
      " --- Price 9 [nan, '10.04', 'Null', '10.01']\n",
      "\n",
      " --- OrderID 19 [nan, '11110009', 'Null', '11110005']\n",
      "\n",
      " --- UnderlyingPrice 16 [nan, nan, nan, nan]\n"
     ]
    }
   ],
   "source": [
    "# For each column, print name, how many unique values, and 4 values (random order bc of set function)\n",
    "for col in rawData.columns:\n",
    "    print('\\n ---',col, len(set(rawData[col])), list(set(rawData[col]))[0:4])\n",
    "#print(*rawData.columns, sep=\"\\n\")"
   ]
  },
  {
   "cell_type": "code",
   "execution_count": 186,
   "metadata": {
    "collapsed": false
   },
   "outputs": [
    {
     "data": {
      "text/html": [
       "<div>\n",
       "<table border=\"1\" class=\"dataframe\">\n",
       "  <thead>\n",
       "    <tr style=\"text-align: right;\">\n",
       "      <th></th>\n",
       "      <th>Record</th>\n",
       "      <th>Date</th>\n",
       "      <th>Time</th>\n",
       "      <th>OptionSeries</th>\n",
       "      <th>FieldType</th>\n",
       "      <th>BidPrice</th>\n",
       "      <th>BidSize</th>\n",
       "      <th>AskPrice</th>\n",
       "      <th>AskSize</th>\n",
       "      <th>TradeVolume</th>\n",
       "      <th>Price</th>\n",
       "      <th>OrderID</th>\n",
       "      <th>UnderlyingPrice</th>\n",
       "    </tr>\n",
       "  </thead>\n",
       "  <tbody>\n",
       "    <tr>\n",
       "      <th>57</th>\n",
       "      <td>Amend Ask</td>\n",
       "      <td>when the firm change an existing field (the o...</td>\n",
       "      <td>NaN</td>\n",
       "      <td>NaN</td>\n",
       "      <td>NaN</td>\n",
       "      <td>NaN</td>\n",
       "      <td>NaN</td>\n",
       "      <td>NaN</td>\n",
       "      <td>NaN</td>\n",
       "      <td>NaN</td>\n",
       "      <td>NaN</td>\n",
       "      <td>NaN</td>\n",
       "      <td>NaN</td>\n",
       "    </tr>\n",
       "    <tr>\n",
       "      <th>58</th>\n",
       "      <td>Delete Bid/Ask</td>\n",
       "      <td>when the firm's bid or ask is deleted (we tra...</td>\n",
       "      <td>NaN</td>\n",
       "      <td>NaN</td>\n",
       "      <td>NaN</td>\n",
       "      <td>NaN</td>\n",
       "      <td>NaN</td>\n",
       "      <td>NaN</td>\n",
       "      <td>NaN</td>\n",
       "      <td>NaN</td>\n",
       "      <td>NaN</td>\n",
       "      <td>NaN</td>\n",
       "      <td>NaN</td>\n",
       "    </tr>\n",
       "    <tr>\n",
       "      <th>59</th>\n",
       "      <td>Best Bid/Ask</td>\n",
       "      <td>Best existing Bid or Ask in the market</td>\n",
       "      <td>NaN</td>\n",
       "      <td>NaN</td>\n",
       "      <td>NaN</td>\n",
       "      <td>NaN</td>\n",
       "      <td>NaN</td>\n",
       "      <td>NaN</td>\n",
       "      <td>NaN</td>\n",
       "      <td>NaN</td>\n",
       "      <td>NaN</td>\n",
       "      <td>NaN</td>\n",
       "      <td>NaN</td>\n",
       "    </tr>\n",
       "    <tr>\n",
       "      <th>60</th>\n",
       "      <td>Gen Trade</td>\n",
       "      <td>Trade in the market by different participants</td>\n",
       "      <td>NaN</td>\n",
       "      <td>NaN</td>\n",
       "      <td>NaN</td>\n",
       "      <td>NaN</td>\n",
       "      <td>NaN</td>\n",
       "      <td>NaN</td>\n",
       "      <td>NaN</td>\n",
       "      <td>NaN</td>\n",
       "      <td>NaN</td>\n",
       "      <td>NaN</td>\n",
       "      <td>NaN</td>\n",
       "    </tr>\n",
       "    <tr>\n",
       "      <th>61</th>\n",
       "      <td>Firm Trade</td>\n",
       "      <td>trade by our firm</td>\n",
       "      <td>NaN</td>\n",
       "      <td>NaN</td>\n",
       "      <td>NaN</td>\n",
       "      <td>NaN</td>\n",
       "      <td>NaN</td>\n",
       "      <td>NaN</td>\n",
       "      <td>NaN</td>\n",
       "      <td>NaN</td>\n",
       "      <td>NaN</td>\n",
       "      <td>NaN</td>\n",
       "      <td>NaN</td>\n",
       "    </tr>\n",
       "  </tbody>\n",
       "</table>\n",
       "</div>"
      ],
      "text/plain": [
       "            Record                                               Date Time  \\\n",
       "57       Amend Ask   when the firm change an existing field (the o...  NaN   \n",
       "58  Delete Bid/Ask   when the firm's bid or ask is deleted (we tra...  NaN   \n",
       "59    Best Bid/Ask             Best existing Bid or Ask in the market  NaN   \n",
       "60       Gen Trade      Trade in the market by different participants  NaN   \n",
       "61      Firm Trade                                  trade by our firm  NaN   \n",
       "\n",
       "   OptionSeries FieldType BidPrice BidSize AskPrice AskSize TradeVolume Price  \\\n",
       "57          NaN       NaN      NaN     NaN      NaN     NaN         NaN   NaN   \n",
       "58          NaN       NaN      NaN     NaN      NaN     NaN         NaN   NaN   \n",
       "59          NaN       NaN      NaN     NaN      NaN     NaN         NaN   NaN   \n",
       "60          NaN       NaN      NaN     NaN      NaN     NaN         NaN   NaN   \n",
       "61          NaN       NaN      NaN     NaN      NaN     NaN         NaN   NaN   \n",
       "\n",
       "   OrderID  UnderlyingPrice  \n",
       "57     NaN              NaN  \n",
       "58     NaN              NaN  \n",
       "59     NaN              NaN  \n",
       "60     NaN              NaN  \n",
       "61     NaN              NaN  "
      ]
     },
     "execution_count": 186,
     "metadata": {},
     "output_type": "execute_result"
    }
   ],
   "source": [
    "rawData.tail(5)"
   ]
  },
  {
   "cell_type": "code",
   "execution_count": 187,
   "metadata": {
    "collapsed": true
   },
   "outputs": [],
   "source": [
    "# make a backup\n",
    "rawData0 = rawData.copy"
   ]
  },
  {
   "cell_type": "code",
   "execution_count": 188,
   "metadata": {
    "collapsed": false
   },
   "outputs": [],
   "source": [
    "# don't run this more than once\n",
    "# last rows are a legend, so split them off\n",
    "#rawData[:52].tail()\n",
    "\n",
    "legend=rawData.loc[52:,['Record','Date']]\n",
    "legend=legend.transpose()\n",
    "#print('Legend',legend)\n",
    "rawData=rawData.iloc[:52] #dropping legend\n",
    "#rawData.tail()"
   ]
  },
  {
   "cell_type": "code",
   "execution_count": 189,
   "metadata": {
    "collapsed": false
   },
   "outputs": [
    {
     "name": "stdout",
     "output_type": "stream",
     "text": [
      "--- Legend\n",
      "nan\n",
      "--- New Buy\n",
      " When the firm enters an order to buy (new order ID is assigned)\n",
      "--- New Ask\n",
      " When the firm enters an order to sell (new order ID is assigned)\n",
      "--- Amend Bid\n",
      " when the firm change an existing field (the order ID does not change)\n",
      "--- Amend Ask\n",
      " when the firm change an existing field (the order ID does not change)\n",
      "--- Delete Bid/Ask\n",
      " when the firm's bid or ask is deleted (we track it by orders ID)\n",
      "--- Best Bid/Ask\n",
      " Best existing Bid or Ask in the market\n",
      "--- Gen Trade\n",
      " Trade in the market by different participants\n",
      "--- Firm Trade\n",
      " trade by our firm\n"
     ]
    }
   ],
   "source": [
    "# print full descriptions\n",
    "for col in legend:\n",
    "    print('---',legend.ix[0,col])\n",
    "    print(legend.ix[1,col])"
   ]
  },
  {
   "cell_type": "code",
   "execution_count": 190,
   "metadata": {
    "collapsed": false
   },
   "outputs": [
    {
     "name": "stdout",
     "output_type": "stream",
     "text": [
      "{'XYZ'}\n"
     ]
    },
    {
     "data": {
      "text/plain": [
       "(52, 13)"
      ]
     },
     "execution_count": 190,
     "metadata": {},
     "output_type": "execute_result"
    }
   ],
   "source": [
    "#What are the different values in option series\n",
    "print(set(rawData['OptionSeries']))\n",
    "xyzData=rawData.loc[rawData['OptionSeries'] =='XYZ',:]\n",
    "xyzData.shape"
   ]
  },
  {
   "cell_type": "code",
   "execution_count": 191,
   "metadata": {
    "collapsed": false
   },
   "outputs": [
    {
     "name": "stdout",
     "output_type": "stream",
     "text": [
      "{'BestAsk', 'AmendAsk', 'DeleteAsk', 'AmendBuy', 'BestBuy', 'FirmTrade', 'DeleteBuy', 'NewBuy', 'GenTrade', 'NewAsk'} 10\n"
     ]
    },
    {
     "data": {
      "text/plain": [
       "FieldType\n",
       "AmendAsk      3\n",
       "AmendBuy      1\n",
       "BestAsk       4\n",
       "BestBuy      10\n",
       "DeleteAsk     2\n",
       "DeleteBuy     5\n",
       "FirmTrade     3\n",
       "GenTrade      7\n",
       "NewAsk        8\n",
       "NewBuy        9\n",
       "dtype: int64"
      ]
     },
     "execution_count": 191,
     "metadata": {},
     "output_type": "execute_result"
    }
   ],
   "source": [
    "# what are the difft FieldTypes?\n",
    "print(set(rawData['FieldType']), len(set(rawData['FieldType'])))\n",
    "rawData.groupby('FieldType').size()"
   ]
  },
  {
   "cell_type": "code",
   "execution_count": 192,
   "metadata": {
    "collapsed": false
   },
   "outputs": [
    {
     "data": {
      "text/html": [
       "<div>\n",
       "<table border=\"1\" class=\"dataframe\">\n",
       "  <thead>\n",
       "    <tr style=\"text-align: right;\">\n",
       "      <th></th>\n",
       "      <th>Record</th>\n",
       "      <th>UnderlyingPrice</th>\n",
       "    </tr>\n",
       "  </thead>\n",
       "  <tbody>\n",
       "    <tr>\n",
       "      <th>0</th>\n",
       "      <td>1</td>\n",
       "      <td>50.00</td>\n",
       "    </tr>\n",
       "    <tr>\n",
       "      <th>1</th>\n",
       "      <td>2</td>\n",
       "      <td>50.00</td>\n",
       "    </tr>\n",
       "    <tr>\n",
       "      <th>2</th>\n",
       "      <td>3</td>\n",
       "      <td>50.01</td>\n",
       "    </tr>\n",
       "    <tr>\n",
       "      <th>3</th>\n",
       "      <td>4</td>\n",
       "      <td>50.01</td>\n",
       "    </tr>\n",
       "    <tr>\n",
       "      <th>4</th>\n",
       "      <td>5</td>\n",
       "      <td>50.02</td>\n",
       "    </tr>\n",
       "  </tbody>\n",
       "</table>\n",
       "</div>"
      ],
      "text/plain": [
       "  Record  UnderlyingPrice\n",
       "0      1            50.00\n",
       "1      2            50.00\n",
       "2      3            50.01\n",
       "3      4            50.01\n",
       "4      5            50.02"
      ]
     },
     "execution_count": 192,
     "metadata": {},
     "output_type": "execute_result"
    }
   ],
   "source": [
    "# price over record (colorcoded by FieldType)\n",
    "\n",
    "xlab='Record'\n",
    "ylab='UnderlyingPrice'\n",
    "pairs=rawData[['Record','UnderlyingPrice']]\n",
    "\n",
    "pairs.head()"
   ]
  },
  {
   "cell_type": "code",
   "execution_count": 193,
   "metadata": {
    "collapsed": false
   },
   "outputs": [],
   "source": [
    "# scaling for plot\n",
    "# subtracting minimum price from all prices\n",
    "pairs[ylab]=pairs[ylab]-min(pairs[ylab])"
   ]
  },
  {
   "cell_type": "code",
   "execution_count": 195,
   "metadata": {
    "collapsed": false
   },
   "outputs": [
    {
     "data": {
      "image/png": "[encoded data removed]",
      "text/plain": [
       "<matplotlib.figure.Figure at 0x10ff60940>"
      ]
     },
     "metadata": {},
     "output_type": "display_data"
    }
   ],
   "source": [
    "sns.barplot(x=pairs[xlab], y=pairs[ylab], alpha=0.6)\n",
    "plt.ylabel('Count', fontsize=12)\n",
    "plt.xlabel(xlab, fontsize=12)\n",
    "plt.xticks(rotation='vertical')\n",
    "plt.title(ylab+\" at different \"+ xlab, fontsize=15)\n",
    "plt.show()"
   ]
  },
  {
   "cell_type": "code",
   "execution_count": 196,
   "metadata": {
    "collapsed": false
   },
   "outputs": [
    {
     "name": "stdout",
     "output_type": "stream",
     "text": [
      "Float64Index([49.99, 50.0, 50.01, 50.02, 50.03, 50.04, 50.1], dtype='float64', name='UnderlyingPrice')\n",
      "[ 1  9 13 25  2  1  1]\n"
     ]
    },
    {
     "data": {
      "image/png": "[encoded data removed]",
      "text/plain": [
       "<matplotlib.figure.Figure at 0x11029f390>"
      ]
     },
     "metadata": {},
     "output_type": "display_data"
    }
   ],
   "source": [
    "xlab='UnderlyingPrice'\n",
    "ylab='number of orders'\n",
    "pairs=rawData.groupby(xlab).size()\n",
    "\n",
    "print(priceCounts.index)\n",
    "print(priceCounts.values)\n",
    "sns.barplot(x=pairs.index, y=pairs.values, color=color[2])\n",
    "plt.ylabel('Count', fontsize=12)\n",
    "plt.xlabel(xlab, fontsize=12)\n",
    "plt.xticks(rotation='vertical')\n",
    "plt.title(ylab+\" at different \"+ xlab, fontsize=15)\n",
    "plt.show()"
   ]
  },
  {
   "cell_type": "code",
   "execution_count": null,
   "metadata": {
    "collapsed": true
   },
   "outputs": [],
   "source": [
    "# newAsk prices at different times\n"
   ]
  },
  {
   "cell_type": "code",
   "execution_count": 198,
   "metadata": {
    "collapsed": false
   },
   "outputs": [
    {
     "data": {
      "text/html": [
       "<div>\n",
       "<table border=\"1\" class=\"dataframe\">\n",
       "  <thead>\n",
       "    <tr style=\"text-align: right;\">\n",
       "      <th></th>\n",
       "      <th>Record</th>\n",
       "      <th>Time</th>\n",
       "      <th>FieldType</th>\n",
       "      <th>UnderlyingPrice</th>\n",
       "    </tr>\n",
       "  </thead>\n",
       "  <tbody>\n",
       "    <tr>\n",
       "      <th>0</th>\n",
       "      <td>1</td>\n",
       "      <td>10:00:00.000</td>\n",
       "      <td>NewBuy</td>\n",
       "      <td>50.00</td>\n",
       "    </tr>\n",
       "    <tr>\n",
       "      <th>1</th>\n",
       "      <td>2</td>\n",
       "      <td>10:00:00.000</td>\n",
       "      <td>GenTrade</td>\n",
       "      <td>50.00</td>\n",
       "    </tr>\n",
       "    <tr>\n",
       "      <th>2</th>\n",
       "      <td>3</td>\n",
       "      <td>10:00:00.001</td>\n",
       "      <td>NewAsk</td>\n",
       "      <td>50.01</td>\n",
       "    </tr>\n",
       "    <tr>\n",
       "      <th>3</th>\n",
       "      <td>4</td>\n",
       "      <td>10:00:00.001</td>\n",
       "      <td>DeleteBuy</td>\n",
       "      <td>50.01</td>\n",
       "    </tr>\n",
       "    <tr>\n",
       "      <th>4</th>\n",
       "      <td>5</td>\n",
       "      <td>10:00:00.002</td>\n",
       "      <td>AmendAsk</td>\n",
       "      <td>50.02</td>\n",
       "    </tr>\n",
       "  </tbody>\n",
       "</table>\n",
       "</div>"
      ],
      "text/plain": [
       "  Record          Time  FieldType  UnderlyingPrice\n",
       "0      1  10:00:00.000     NewBuy            50.00\n",
       "1      2  10:00:00.000   GenTrade            50.00\n",
       "2      3  10:00:00.001     NewAsk            50.01\n",
       "3      4  10:00:00.001  DeleteBuy            50.01\n",
       "4      5  10:00:00.002   AmendAsk            50.02"
      ]
     },
     "execution_count": 198,
     "metadata": {},
     "output_type": "execute_result"
    }
   ],
   "source": [
    "# line plot of each column as a function of order number\n",
    "data=rawData[['Record','Time','FieldType','UnderlyingPrice']]\n",
    "data.head()"
   ]
  },
  {
   "cell_type": "code",
   "execution_count": 199,
   "metadata": {
    "collapsed": false
   },
   "outputs": [
    {
     "data": {
      "text/html": [
       "<div>\n",
       "<table border=\"1\" class=\"dataframe\">\n",
       "  <thead>\n",
       "    <tr style=\"text-align: right;\">\n",
       "      <th>FieldType</th>\n",
       "      <th>AmendAsk</th>\n",
       "      <th>AmendBuy</th>\n",
       "      <th>BestAsk</th>\n",
       "      <th>BestBuy</th>\n",
       "      <th>DeleteAsk</th>\n",
       "      <th>DeleteBuy</th>\n",
       "      <th>FirmTrade</th>\n",
       "      <th>GenTrade</th>\n",
       "      <th>NewAsk</th>\n",
       "      <th>NewBuy</th>\n",
       "    </tr>\n",
       "    <tr>\n",
       "      <th>Record</th>\n",
       "      <th></th>\n",
       "      <th></th>\n",
       "      <th></th>\n",
       "      <th></th>\n",
       "      <th></th>\n",
       "      <th></th>\n",
       "      <th></th>\n",
       "      <th></th>\n",
       "      <th></th>\n",
       "      <th></th>\n",
       "    </tr>\n",
       "  </thead>\n",
       "  <tbody>\n",
       "    <tr>\n",
       "      <th>1</th>\n",
       "      <td>NaN</td>\n",
       "      <td>NaN</td>\n",
       "      <td>NaN</td>\n",
       "      <td>NaN</td>\n",
       "      <td>NaN</td>\n",
       "      <td>NaN</td>\n",
       "      <td>NaN</td>\n",
       "      <td>NaN</td>\n",
       "      <td>NaN</td>\n",
       "      <td>50.00</td>\n",
       "    </tr>\n",
       "    <tr>\n",
       "      <th>10</th>\n",
       "      <td>NaN</td>\n",
       "      <td>NaN</td>\n",
       "      <td>NaN</td>\n",
       "      <td>NaN</td>\n",
       "      <td>NaN</td>\n",
       "      <td>NaN</td>\n",
       "      <td>NaN</td>\n",
       "      <td>NaN</td>\n",
       "      <td>NaN</td>\n",
       "      <td>50.02</td>\n",
       "    </tr>\n",
       "    <tr>\n",
       "      <th>11</th>\n",
       "      <td>NaN</td>\n",
       "      <td>NaN</td>\n",
       "      <td>NaN</td>\n",
       "      <td>50.02</td>\n",
       "      <td>NaN</td>\n",
       "      <td>NaN</td>\n",
       "      <td>NaN</td>\n",
       "      <td>NaN</td>\n",
       "      <td>NaN</td>\n",
       "      <td>NaN</td>\n",
       "    </tr>\n",
       "    <tr>\n",
       "      <th>12</th>\n",
       "      <td>NaN</td>\n",
       "      <td>NaN</td>\n",
       "      <td>NaN</td>\n",
       "      <td>NaN</td>\n",
       "      <td>NaN</td>\n",
       "      <td>NaN</td>\n",
       "      <td>NaN</td>\n",
       "      <td>NaN</td>\n",
       "      <td>NaN</td>\n",
       "      <td>50.02</td>\n",
       "    </tr>\n",
       "    <tr>\n",
       "      <th>13</th>\n",
       "      <td>NaN</td>\n",
       "      <td>NaN</td>\n",
       "      <td>NaN</td>\n",
       "      <td>50.02</td>\n",
       "      <td>NaN</td>\n",
       "      <td>NaN</td>\n",
       "      <td>NaN</td>\n",
       "      <td>NaN</td>\n",
       "      <td>NaN</td>\n",
       "      <td>NaN</td>\n",
       "    </tr>\n",
       "  </tbody>\n",
       "</table>\n",
       "</div>"
      ],
      "text/plain": [
       "FieldType  AmendAsk  AmendBuy  BestAsk  BestBuy  DeleteAsk  DeleteBuy  \\\n",
       "Record                                                                  \n",
       "1               NaN       NaN      NaN      NaN        NaN        NaN   \n",
       "10              NaN       NaN      NaN      NaN        NaN        NaN   \n",
       "11              NaN       NaN      NaN    50.02        NaN        NaN   \n",
       "12              NaN       NaN      NaN      NaN        NaN        NaN   \n",
       "13              NaN       NaN      NaN    50.02        NaN        NaN   \n",
       "\n",
       "FieldType  FirmTrade  GenTrade  NewAsk  NewBuy  \n",
       "Record                                          \n",
       "1                NaN       NaN     NaN   50.00  \n",
       "10               NaN       NaN     NaN   50.02  \n",
       "11               NaN       NaN     NaN     NaN  \n",
       "12               NaN       NaN     NaN   50.02  \n",
       "13               NaN       NaN     NaN     NaN  "
      ]
     },
     "execution_count": 199,
     "metadata": {},
     "output_type": "execute_result"
    }
   ],
   "source": [
    "data=data.pivot(index='Record',columns='FieldType',values='UnderlyingPrice')\n",
    "data.head()"
   ]
  },
  {
   "cell_type": "code",
   "execution_count": 200,
   "metadata": {
    "collapsed": false
   },
   "outputs": [
    {
     "data": {
      "text/plain": [
       "<matplotlib.axes._subplots.AxesSubplot at 0x10fff5278>"
      ]
     },
     "execution_count": 200,
     "metadata": {},
     "output_type": "execute_result"
    },
    {
     "data": {
      "image/png": "[encoded data removed]",
      "text/plain": [
       "<matplotlib.figure.Figure at 0x1102fc5f8>"
      ]
     },
     "metadata": {},
     "output_type": "display_data"
    }
   ],
   "source": [
    "data.plot(figsize=(12,6))"
   ]
  },
  {
   "cell_type": "code",
   "execution_count": 201,
   "metadata": {
    "collapsed": false
   },
   "outputs": [
    {
     "data": {
      "text/plain": [
       "300.0"
      ]
     },
     "execution_count": 201,
     "metadata": {},
     "output_type": "execute_result"
    }
   ],
   "source": [
    "from datetime import datetime\n",
    "#data['Time']=datetime(rawData['Time']) #wip\n",
    "\n",
    "msecs = datetime.strptime('10:00:20.300', '%H:%M:%S.%f')\n",
    "msecs.microsecond/1000"
   ]
  },
  {
   "cell_type": "code",
   "execution_count": 202,
   "metadata": {
    "collapsed": false
   },
   "outputs": [
    {
     "data": {
      "text/html": [
       "<div>\n",
       "<table border=\"1\" class=\"dataframe\">\n",
       "  <thead>\n",
       "    <tr style=\"text-align: right;\">\n",
       "      <th></th>\n",
       "      <th>Record</th>\n",
       "      <th>Date</th>\n",
       "      <th>Time</th>\n",
       "      <th>OptionSeries</th>\n",
       "      <th>FieldType</th>\n",
       "      <th>BidPrice</th>\n",
       "      <th>BidSize</th>\n",
       "      <th>AskPrice</th>\n",
       "      <th>AskSize</th>\n",
       "      <th>TradeVolume</th>\n",
       "      <th>Price</th>\n",
       "      <th>OrderID</th>\n",
       "    </tr>\n",
       "    <tr>\n",
       "      <th>UnderlyingPrice</th>\n",
       "      <th></th>\n",
       "      <th></th>\n",
       "      <th></th>\n",
       "      <th></th>\n",
       "      <th></th>\n",
       "      <th></th>\n",
       "      <th></th>\n",
       "      <th></th>\n",
       "      <th></th>\n",
       "      <th></th>\n",
       "      <th></th>\n",
       "      <th></th>\n",
       "    </tr>\n",
       "  </thead>\n",
       "  <tbody>\n",
       "    <tr>\n",
       "      <th>49.99</th>\n",
       "      <td>1</td>\n",
       "      <td>1</td>\n",
       "      <td>1</td>\n",
       "      <td>1</td>\n",
       "      <td>1</td>\n",
       "      <td>1</td>\n",
       "      <td>1</td>\n",
       "      <td>1</td>\n",
       "      <td>1</td>\n",
       "      <td>1</td>\n",
       "      <td>1</td>\n",
       "      <td>1</td>\n",
       "    </tr>\n",
       "    <tr>\n",
       "      <th>50.00</th>\n",
       "      <td>9</td>\n",
       "      <td>1</td>\n",
       "      <td>6</td>\n",
       "      <td>1</td>\n",
       "      <td>4</td>\n",
       "      <td>4</td>\n",
       "      <td>3</td>\n",
       "      <td>2</td>\n",
       "      <td>3</td>\n",
       "      <td>3</td>\n",
       "      <td>3</td>\n",
       "      <td>6</td>\n",
       "    </tr>\n",
       "    <tr>\n",
       "      <th>50.01</th>\n",
       "      <td>13</td>\n",
       "      <td>1</td>\n",
       "      <td>10</td>\n",
       "      <td>1</td>\n",
       "      <td>5</td>\n",
       "      <td>5</td>\n",
       "      <td>4</td>\n",
       "      <td>6</td>\n",
       "      <td>4</td>\n",
       "      <td>2</td>\n",
       "      <td>2</td>\n",
       "      <td>11</td>\n",
       "    </tr>\n",
       "    <tr>\n",
       "      <th>50.02</th>\n",
       "      <td>25</td>\n",
       "      <td>1</td>\n",
       "      <td>16</td>\n",
       "      <td>1</td>\n",
       "      <td>8</td>\n",
       "      <td>6</td>\n",
       "      <td>8</td>\n",
       "      <td>4</td>\n",
       "      <td>7</td>\n",
       "      <td>3</td>\n",
       "      <td>4</td>\n",
       "      <td>9</td>\n",
       "    </tr>\n",
       "    <tr>\n",
       "      <th>50.03</th>\n",
       "      <td>2</td>\n",
       "      <td>1</td>\n",
       "      <td>2</td>\n",
       "      <td>1</td>\n",
       "      <td>1</td>\n",
       "      <td>1</td>\n",
       "      <td>1</td>\n",
       "      <td>1</td>\n",
       "      <td>1</td>\n",
       "      <td>1</td>\n",
       "      <td>2</td>\n",
       "      <td>1</td>\n",
       "    </tr>\n",
       "    <tr>\n",
       "      <th>50.04</th>\n",
       "      <td>1</td>\n",
       "      <td>1</td>\n",
       "      <td>1</td>\n",
       "      <td>1</td>\n",
       "      <td>1</td>\n",
       "      <td>1</td>\n",
       "      <td>1</td>\n",
       "      <td>1</td>\n",
       "      <td>1</td>\n",
       "      <td>1</td>\n",
       "      <td>1</td>\n",
       "      <td>1</td>\n",
       "    </tr>\n",
       "    <tr>\n",
       "      <th>50.10</th>\n",
       "      <td>1</td>\n",
       "      <td>1</td>\n",
       "      <td>1</td>\n",
       "      <td>1</td>\n",
       "      <td>1</td>\n",
       "      <td>1</td>\n",
       "      <td>1</td>\n",
       "      <td>1</td>\n",
       "      <td>1</td>\n",
       "      <td>1</td>\n",
       "      <td>1</td>\n",
       "      <td>1</td>\n",
       "    </tr>\n",
       "  </tbody>\n",
       "</table>\n",
       "</div>"
      ],
      "text/plain": [
       "                 Record  Date  Time  OptionSeries  FieldType  BidPrice  \\\n",
       "UnderlyingPrice                                                          \n",
       "49.99                 1     1     1             1          1         1   \n",
       "50.00                 9     1     6             1          4         4   \n",
       "50.01                13     1    10             1          5         5   \n",
       "50.02                25     1    16             1          8         6   \n",
       "50.03                 2     1     2             1          1         1   \n",
       "50.04                 1     1     1             1          1         1   \n",
       "50.10                 1     1     1             1          1         1   \n",
       "\n",
       "                 BidSize  AskPrice  AskSize  TradeVolume  Price  OrderID  \n",
       "UnderlyingPrice                                                           \n",
       "49.99                  1         1        1            1      1        1  \n",
       "50.00                  3         2        3            3      3        6  \n",
       "50.01                  4         6        4            2      2       11  \n",
       "50.02                  8         4        7            3      4        9  \n",
       "50.03                  1         1        1            1      2        1  \n",
       "50.04                  1         1        1            1      1        1  \n",
       "50.10                  1         1        1            1      1        1  "
      ]
     },
     "execution_count": 202,
     "metadata": {},
     "output_type": "execute_result"
    }
   ],
   "source": [
    "def get_unique_count(x):\n",
    "    return len(np.unique(x))\n",
    "\n",
    "prices=rawData.groupby('UnderlyingPrice').aggregate(get_unique_count)\n",
    "prices"
   ]
  },
  {
   "cell_type": "code",
   "execution_count": null,
   "metadata": {
    "collapsed": true
   },
   "outputs": [],
   "source": []
  },
  {
   "cell_type": "code",
   "execution_count": null,
   "metadata": {
    "collapsed": true
   },
   "outputs": [],
   "source": []
  },
  {
   "cell_type": "code",
   "execution_count": null,
   "metadata": {
    "collapsed": true
   },
   "outputs": [],
   "source": []
  },
  {
   "cell_type": "code",
   "execution_count": null,
   "metadata": {
    "collapsed": true
   },
   "outputs": [],
   "source": []
  },
  {
   "cell_type": "code",
   "execution_count": null,
   "metadata": {
    "collapsed": true
   },
   "outputs": [],
   "source": []
  },
  {
   "cell_type": "code",
   "execution_count": null,
   "metadata": {
    "collapsed": true
   },
   "outputs": [],
   "source": []
  },
  {
   "cell_type": "code",
   "execution_count": null,
   "metadata": {
    "collapsed": true
   },
   "outputs": [],
   "source": []
  },
  {
   "cell_type": "code",
   "execution_count": null,
   "metadata": {
    "collapsed": true
   },
   "outputs": [],
   "source": []
  },
  {
   "cell_type": "code",
   "execution_count": null,
   "metadata": {
    "collapsed": true
   },
   "outputs": [],
   "source": []
  },
  {
   "cell_type": "code",
   "execution_count": null,
   "metadata": {
    "collapsed": true
   },
   "outputs": [],
   "source": []
  }
 ],
 "metadata": {
  "kernelspec": {
   "display_name": "Python 3",
   "language": "python",
   "name": "python3"
  },
  "language_info": {
   "codemirror_mode": {
    "name": "ipython",
    "version": 3
   },
   "file_extension": ".py",
   "mimetype": "text/x-python",
   "name": "python",
   "nbconvert_exporter": "python",
   "pygments_lexer": "ipython3",
   "version": "3.6.0"
  }
 },
 "nbformat": 4,
 "nbformat_minor": 2
}
